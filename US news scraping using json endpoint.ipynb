{
 "cells": [
  {
   "cell_type": "code",
   "execution_count": 38,
   "id": "f8119114",
   "metadata": {},
   "outputs": [],
   "source": [
    "import requests\n",
    "import json \n",
    "import pandas as pd\n",
    "import numpy\n",
    "import csv\n",
    "from csv import writer\n",
    "\n",
    "headers = {\"User-Agent\": \"Mozilla/5.0\"}\n",
    "#for header in csv file\n",
    "with open('data.csv','w', newline='') as file:\n",
    "    writer = csv.writer(file)\n",
    "    writer.writerow(['University_Name', 'Location', 'Ranking', 'Tutionfee', 'Enrollment'])\n",
    "#to get a specified range of data    \n",
    "urls = numpy.arange(1,20,1)\n",
    "for url in urls:\n",
    "    #concatinating all the urls\n",
    "    url = 'https://www.usnews.com/best-graduate-schools/api/search?program=top-engineering-schools&specialty=eng&_page=' + str(url)       \n",
    "    r = requests.get(url, headers= headers)\n",
    "    cont = r.json()\n",
    "    University=[]\n",
    "    Location = []\n",
    "    Ranking = []\n",
    "    Tutionfee = []\n",
    "    Enrollment = []\n",
    "    datas = cont['data']['items']\n",
    "    for x in datas:\n",
    "        University.append(x['name'])\n",
    "        Location.append(x['city'])\n",
    "        Ranking.append(x['ranking']['display_rank'])\n",
    "        Tutionfee.append(x['schoolData']['complete_tuition'])\n",
    "        Enrollment.append(x['schoolData']['v_ft_enrolled_dir_pg']) \n",
    "    print(University)\n",
    "    print(location)\n",
    "    print(Ranking)\n",
    "    print(Tutionfee)\n",
    "    print(Enrollment)\n",
    "    \n",
    "    #writing datas to a csv file\n",
    "    with open('data.csv','a', newline='') as file:\n",
    "        writer = csv.writer(file)\n",
    "        df = pd.DataFrame(list(zip(University, Location, Ranking, Tutionfee, Enrollment)), columns = ['','','','',''])\n",
    "        df.fillna('nun', inplace = True)\n",
    "        df.to_csv(file, sep=',', encoding='utf-8-sig', index = False)"
   ]
  },
  {
   "cell_type": "code",
   "execution_count": null,
   "id": "62ee2e47",
   "metadata": {},
   "outputs": [],
   "source": []
  }
 ],
 "metadata": {
  "kernelspec": {
   "display_name": "Python 3 (ipykernel)",
   "language": "python",
   "name": "python3"
  },
  "language_info": {
   "codemirror_mode": {
    "name": "ipython",
    "version": 3
   },
   "file_extension": ".py",
   "mimetype": "text/x-python",
   "name": "python",
   "nbconvert_exporter": "python",
   "pygments_lexer": "ipython3",
   "version": "3.10.1"
  }
 },
 "nbformat": 4,
 "nbformat_minor": 5
}
